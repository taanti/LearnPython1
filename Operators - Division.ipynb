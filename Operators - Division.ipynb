{
 "cells": [
  {
   "cell_type": "markdown",
   "id": "d3260624",
   "metadata": {},
   "source": [
    "# Division\n",
    "Division is a mathematical operation that divides one number by another to give a quotient. In Python, the division operator / is used for the operation"
   ]
  },
  {
   "cell_type": "code",
   "execution_count": 1,
   "id": "17ab536a",
   "metadata": {},
   "outputs": [
    {
     "data": {
      "text/plain": [
       "3.0"
      ]
     },
     "execution_count": 1,
     "metadata": {},
     "output_type": "execute_result"
    }
   ],
   "source": [
    "21/7"
   ]
  },
  {
   "cell_type": "code",
   "execution_count": 2,
   "id": "22e91c03",
   "metadata": {},
   "outputs": [
    {
     "data": {
      "text/plain": [
       "2.5"
      ]
     },
     "execution_count": 2,
     "metadata": {},
     "output_type": "execute_result"
    }
   ],
   "source": [
    "15/6"
   ]
  },
  {
   "cell_type": "markdown",
   "id": "2f0d9518",
   "metadata": {},
   "source": [
    "### Floor Division:\n",
    "\n",
    "- Returns the result of dividing the first operand by the second operand (an integer).\n",
    "- Unless one of the operands is a float, it will produce a float result."
   ]
  },
  {
   "cell_type": "code",
   "execution_count": 5,
   "id": "00b840c1",
   "metadata": {},
   "outputs": [
    {
     "data": {
      "text/plain": [
       "7"
      ]
     },
     "execution_count": 5,
     "metadata": {},
     "output_type": "execute_result"
    }
   ],
   "source": [
    "15//2"
   ]
  },
  {
   "cell_type": "code",
   "execution_count": 8,
   "id": "a4fd716a",
   "metadata": {},
   "outputs": [
    {
     "data": {
      "text/plain": [
       "4"
      ]
     },
     "execution_count": 8,
     "metadata": {},
     "output_type": "execute_result"
    }
   ],
   "source": [
    "21//5"
   ]
  }
 ],
 "metadata": {
  "kernelspec": {
   "display_name": "Python 3 (ipykernel)",
   "language": "python",
   "name": "python3"
  },
  "language_info": {
   "codemirror_mode": {
    "name": "ipython",
    "version": 3
   },
   "file_extension": ".py",
   "mimetype": "text/x-python",
   "name": "python",
   "nbconvert_exporter": "python",
   "pygments_lexer": "ipython3",
   "version": "3.11.7"
  }
 },
 "nbformat": 4,
 "nbformat_minor": 5
}
