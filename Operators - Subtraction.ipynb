{
 "cells": [
  {
   "cell_type": "markdown",
   "id": "218088e8",
   "metadata": {},
   "source": [
    "# Subtraction\n",
    "\n",
    "The operator \"-\" (subtraction) is used for subtraction in mathematical operations and for other specific operations in programming."
   ]
  },
  {
   "cell_type": "code",
   "execution_count": 1,
   "id": "b3c455db",
   "metadata": {},
   "outputs": [
    {
     "data": {
      "text/plain": [
       "5"
      ]
     },
     "execution_count": 1,
     "metadata": {},
     "output_type": "execute_result"
    }
   ],
   "source": [
    "8-3"
   ]
  },
  {
   "cell_type": "code",
   "execution_count": 2,
   "id": "0faa234b",
   "metadata": {},
   "outputs": [
    {
     "ename": "TypeError",
     "evalue": "unsupported operand type(s) for -: 'str' and 'str'",
     "output_type": "error",
     "traceback": [
      "\u001b[1;31m---------------------------------------------------------------------------\u001b[0m",
      "\u001b[1;31mTypeError\u001b[0m                                 Traceback (most recent call last)",
      "Cell \u001b[1;32mIn[2], line 4\u001b[0m\n\u001b[0;32m      1\u001b[0m \u001b[38;5;66;03m#Error occurs because the \"-\" operator (subtraction) cannot be used to subtract two strings directly. \u001b[39;00m\n\u001b[0;32m      2\u001b[0m \u001b[38;5;66;03m#It is only applicable for mathematical operations, not for string operations.\u001b[39;00m\n\u001b[1;32m----> 4\u001b[0m \u001b[38;5;124m'\u001b[39m\u001b[38;5;124mdata\u001b[39m\u001b[38;5;124m'\u001b[39m \u001b[38;5;241m-\u001b[39m \u001b[38;5;124m'\u001b[39m\u001b[38;5;124mta\u001b[39m\u001b[38;5;124m'\u001b[39m\n",
      "\u001b[1;31mTypeError\u001b[0m: unsupported operand type(s) for -: 'str' and 'str'"
     ]
    }
   ],
   "source": [
    "#Error occurs because the \"-\" operator (subtraction) cannot be used to subtract two strings directly. \n",
    "#It is only applicable for mathematical operations, not for string operations.\n",
    "\n",
    "'data' - 'ta'"
   ]
  }
 ],
 "metadata": {
  "kernelspec": {
   "display_name": "Python 3 (ipykernel)",
   "language": "python",
   "name": "python3"
  },
  "language_info": {
   "codemirror_mode": {
    "name": "ipython",
    "version": 3
   },
   "file_extension": ".py",
   "mimetype": "text/x-python",
   "name": "python",
   "nbconvert_exporter": "python",
   "pygments_lexer": "ipython3",
   "version": "3.11.7"
  }
 },
 "nbformat": 4,
 "nbformat_minor": 5
}
