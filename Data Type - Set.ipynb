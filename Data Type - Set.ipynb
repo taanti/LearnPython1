{
 "cells": [
  {
   "cell_type": "markdown",
   "id": "b1b9512d",
   "metadata": {},
   "source": [
    "# Set\n",
    "\n",
    "Set is a collection of unique and unordered items, defined with curly braces and elements separated by commas. In sets, we can perform operations such as union and intersection, while automatically removing duplicate data."
   ]
  },
  {
   "cell_type": "code",
   "execution_count": 1,
   "id": "90c9bcd6",
   "metadata": {},
   "outputs": [],
   "source": [
    "a = {3,3,7,3,6,4,4,4,4,5,5,5,5,5}"
   ]
  },
  {
   "cell_type": "code",
   "execution_count": 2,
   "id": "21237bbf",
   "metadata": {},
   "outputs": [
    {
     "name": "stdout",
     "output_type": "stream",
     "text": [
      "{3, 4, 5, 6, 7}\n"
     ]
    }
   ],
   "source": [
    "print(a)"
   ]
  },
  {
   "cell_type": "markdown",
   "id": "ad0f130f",
   "metadata": {},
   "source": [
    "Because sets are unordered, we cannot retrieve partial data elements from them using the slicing process."
   ]
  },
  {
   "cell_type": "code",
   "execution_count": 3,
   "id": "3f1677b2",
   "metadata": {},
   "outputs": [
    {
     "ename": "TypeError",
     "evalue": "'set' object is not subscriptable",
     "output_type": "error",
     "traceback": [
      "\u001b[1;31m---------------------------------------------------------------------------\u001b[0m",
      "\u001b[1;31mTypeError\u001b[0m                                 Traceback (most recent call last)",
      "Cell \u001b[1;32mIn[3], line 1\u001b[0m\n\u001b[1;32m----> 1\u001b[0m \u001b[38;5;28mprint\u001b[39m(a[\u001b[38;5;241m1\u001b[39m])\n",
      "\u001b[1;31mTypeError\u001b[0m: 'set' object is not subscriptable"
     ]
    }
   ],
   "source": [
    "print(a[1])"
   ]
  },
  {
   "cell_type": "markdown",
   "id": "6d751439",
   "metadata": {},
   "source": [
    "### Union\n",
    "\n",
    "Union of sets refers to combining all the elements from two or more sets into a single set. When performing a union operation, duplicates are automatically removed, resulting in a set containing only unique elements present in any of the original sets."
   ]
  },
  {
   "cell_type": "code",
   "execution_count": 2,
   "id": "6f5407cd",
   "metadata": {},
   "outputs": [],
   "source": [
    "a = {1, 2, 3}\n",
    "b = {2, 3, 4, 5}"
   ]
  },
  {
   "cell_type": "code",
   "execution_count": 3,
   "id": "512cc535",
   "metadata": {},
   "outputs": [
    {
     "name": "stdout",
     "output_type": "stream",
     "text": [
      "{1, 2, 3}\n",
      "{2, 3, 4, 5}\n"
     ]
    }
   ],
   "source": [
    "print(a)\n",
    "print(b)"
   ]
  },
  {
   "cell_type": "code",
   "execution_count": 4,
   "id": "e3bef39c",
   "metadata": {},
   "outputs": [
    {
     "data": {
      "text/plain": [
       "{1, 2, 3, 4, 5}"
      ]
     },
     "execution_count": 4,
     "metadata": {},
     "output_type": "execute_result"
    }
   ],
   "source": [
    "a.union(b)"
   ]
  },
  {
   "cell_type": "markdown",
   "id": "b6b7d9c8",
   "metadata": {},
   "source": [
    "### Intersection\n",
    "\n",
    " Intersection of sets involves finding the common elements present in two or more sets. In other words, it's the set of elements that are shared by all the sets involved in the intersection operation."
   ]
  },
  {
   "cell_type": "code",
   "execution_count": 5,
   "id": "9cc405b0",
   "metadata": {},
   "outputs": [
    {
     "name": "stdout",
     "output_type": "stream",
     "text": [
      "{1, 2, 3}\n",
      "{2, 3, 4, 5}\n"
     ]
    }
   ],
   "source": [
    "print(a)\n",
    "print(b)"
   ]
  },
  {
   "cell_type": "code",
   "execution_count": 6,
   "id": "468be13b",
   "metadata": {},
   "outputs": [
    {
     "data": {
      "text/plain": [
       "{2, 3}"
      ]
     },
     "execution_count": 6,
     "metadata": {},
     "output_type": "execute_result"
    }
   ],
   "source": [
    "a.intersection(b)"
   ]
  }
 ],
 "metadata": {
  "kernelspec": {
   "display_name": "Python 3 (ipykernel)",
   "language": "python",
   "name": "python3"
  },
  "language_info": {
   "codemirror_mode": {
    "name": "ipython",
    "version": 3
   },
   "file_extension": ".py",
   "mimetype": "text/x-python",
   "name": "python",
   "nbconvert_exporter": "python",
   "pygments_lexer": "ipython3",
   "version": "3.11.7"
  }
 },
 "nbformat": 4,
 "nbformat_minor": 5
}
