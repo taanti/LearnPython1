{
 "cells": [
  {
   "cell_type": "markdown",
   "id": "dad72c1c",
   "metadata": {},
   "source": [
    "# Dictionary\n",
    "\n",
    "Dictionary in Python is an unordered collection of key-value pairs. It can be used to store data of any size. To access the data, we need to know its key. In Python, dictionaries are defined within curly braces {} and adhere to the following guidelines:\n",
    "\n",
    "- Each key-value pair is separated by a comma.\n",
    "- Keys and values are separated by a colon :.\n",
    "- Keys and values can be of any data type or object."
   ]
  },
  {
   "cell_type": "code",
   "execution_count": 1,
   "id": "63f75364",
   "metadata": {},
   "outputs": [],
   "source": [
    "a = {\"Name\" : \"Yudha\", \"Age\" : 10}"
   ]
  },
  {
   "cell_type": "code",
   "execution_count": 2,
   "id": "69658d7c",
   "metadata": {},
   "outputs": [
    {
     "data": {
      "text/plain": [
       "dict"
      ]
     },
     "execution_count": 2,
     "metadata": {},
     "output_type": "execute_result"
    }
   ],
   "source": [
    "type(a)"
   ]
  },
  {
   "cell_type": "code",
   "execution_count": 3,
   "id": "0e07ca82",
   "metadata": {},
   "outputs": [
    {
     "data": {
      "text/plain": [
       "'Yudha'"
      ]
     },
     "execution_count": 3,
     "metadata": {},
     "output_type": "execute_result"
    }
   ],
   "source": [
    "a[\"Name\"]"
   ]
  },
  {
   "cell_type": "code",
   "execution_count": 4,
   "id": "a0882b9c",
   "metadata": {},
   "outputs": [
    {
     "ename": "KeyError",
     "evalue": "'Yudha'",
     "output_type": "error",
     "traceback": [
      "\u001b[1;31m---------------------------------------------------------------------------\u001b[0m",
      "\u001b[1;31mKeyError\u001b[0m                                  Traceback (most recent call last)",
      "Cell \u001b[1;32mIn[4], line 3\u001b[0m\n\u001b[0;32m      1\u001b[0m \u001b[38;5;66;03m#Because \"Yudha\" is not a key in the dictionary a. You need to use the correct key, which is \"Name\", to access the value.\u001b[39;00m\n\u001b[1;32m----> 3\u001b[0m a[\u001b[38;5;124m\"\u001b[39m\u001b[38;5;124mYudha\u001b[39m\u001b[38;5;124m\"\u001b[39m]\n",
      "\u001b[1;31mKeyError\u001b[0m: 'Yudha'"
     ]
    }
   ],
   "source": [
    "#Because \"Yudha\" is not a key in the dictionary a. You need to use the correct key, which is \"Name\", to access the value.\n",
    "\n",
    "a[\"Yudha\"]"
   ]
  },
  {
   "cell_type": "code",
   "execution_count": 5,
   "id": "d71115e3",
   "metadata": {},
   "outputs": [
    {
     "data": {
      "text/plain": [
       "10"
      ]
     },
     "execution_count": 5,
     "metadata": {},
     "output_type": "execute_result"
    }
   ],
   "source": [
    "a[\"Age\"]"
   ]
  },
  {
   "cell_type": "markdown",
   "id": "daea099f",
   "metadata": {},
   "source": [
    "Dictionary is not included in the implementation of sequences, so it cannot be called with sequential indices. For example, in the following example, it's attempted to access with index 0, but it results in an error (KeyError) because there is no key 0."
   ]
  },
  {
   "cell_type": "code",
   "execution_count": 6,
   "id": "cf8bc8e8",
   "metadata": {},
   "outputs": [
    {
     "ename": "KeyError",
     "evalue": "0",
     "output_type": "error",
     "traceback": [
      "\u001b[1;31m---------------------------------------------------------------------------\u001b[0m",
      "\u001b[1;31mKeyError\u001b[0m                                  Traceback (most recent call last)",
      "Cell \u001b[1;32mIn[6], line 1\u001b[0m\n\u001b[1;32m----> 1\u001b[0m a[\u001b[38;5;241m0\u001b[39m]\n",
      "\u001b[1;31mKeyError\u001b[0m: 0"
     ]
    }
   ],
   "source": [
    "a[0]"
   ]
  },
  {
   "cell_type": "markdown",
   "id": "36aad843",
   "metadata": {},
   "source": [
    "### Nested Dictionary\n",
    "\n",
    "Nested Dictionary is when a dictionary contains other dictionaries as its values."
   ]
  },
  {
   "cell_type": "code",
   "execution_count": 7,
   "id": "99497de3",
   "metadata": {},
   "outputs": [],
   "source": [
    "b = {\"nama\" : {\"nama_1\" : \"Yudha\",\n",
    "    \"nama_2\" : \"Putra\"}\n",
    "    }"
   ]
  },
  {
   "cell_type": "code",
   "execution_count": 8,
   "id": "6c74f6c8",
   "metadata": {},
   "outputs": [
    {
     "data": {
      "text/plain": [
       "'Putra'"
      ]
     },
     "execution_count": 8,
     "metadata": {},
     "output_type": "execute_result"
    }
   ],
   "source": [
    "b[\"nama\"] [\"nama_2\"]"
   ]
  },
  {
   "cell_type": "code",
   "execution_count": 9,
   "id": "5a9427bc",
   "metadata": {},
   "outputs": [
    {
     "data": {
      "text/plain": [
       "'Yudha'"
      ]
     },
     "execution_count": 9,
     "metadata": {},
     "output_type": "execute_result"
    }
   ],
   "source": [
    "b[\"nama\"] [\"nama_1\"]"
   ]
  }
 ],
 "metadata": {
  "kernelspec": {
   "display_name": "Python 3 (ipykernel)",
   "language": "python",
   "name": "python3"
  },
  "language_info": {
   "codemirror_mode": {
    "name": "ipython",
    "version": 3
   },
   "file_extension": ".py",
   "mimetype": "text/x-python",
   "name": "python",
   "nbconvert_exporter": "python",
   "pygments_lexer": "ipython3",
   "version": "3.11.7"
  }
 },
 "nbformat": 4,
 "nbformat_minor": 5
}
