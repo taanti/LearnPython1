{
 "cells": [
  {
   "cell_type": "markdown",
   "id": "9758b7a6",
   "metadata": {},
   "source": [
    "# FOR\n",
    "\n",
    "- for is a function that can loop through any type of variable such as a collection or sequence.\n",
    "- The variable can be a list, string, or range.\n",
    "- If a list or sequence contains expressions, they will be evaluated first.\n",
    "- Then, the first item in the sequence/list will be assigned as the iterating variable.\n",
    "- After that, the block of statements will be executed, moving on to the next item, and so on, until the entire sequence is end."
   ]
  },
  {
   "cell_type": "code",
   "execution_count": 2,
   "id": "ce96c5a6",
   "metadata": {},
   "outputs": [
    {
     "name": "stdout",
     "output_type": "stream",
     "text": [
      "huruf d\n",
      "huruf a\n",
      "huruf t\n",
      "huruf a\n"
     ]
    }
   ],
   "source": [
    "for i in \"data\" :\n",
    "    print(\"Letter {}\".format(i))"
   ]
  },
  {
   "cell_type": "code",
   "execution_count": 3,
   "id": "1b14fcd2",
   "metadata": {},
   "outputs": [
    {
     "name": "stdout",
     "output_type": "stream",
     "text": [
      "Color red\n",
      "Color blue\n",
      "Color yellow\n"
     ]
    }
   ],
   "source": [
    "color = ['red', 'blue', 'yellow']\n",
    "\n",
    "for i in color :\n",
    "    print(\"Color {}\".format(i))"
   ]
  },
  {
   "cell_type": "code",
   "execution_count": 4,
   "id": "beeb43b8",
   "metadata": {},
   "outputs": [
    {
     "name": "stdout",
     "output_type": "stream",
     "text": [
      "0\n",
      "1\n",
      "2\n",
      "3\n",
      "4\n"
     ]
    }
   ],
   "source": [
    "for i in range (5):\n",
    "    print(i)"
   ]
  },
  {
   "cell_type": "code",
   "execution_count": 5,
   "id": "3ff21304",
   "metadata": {},
   "outputs": [
    {
     "name": "stdout",
     "output_type": "stream",
     "text": [
      "1\n",
      "2\n",
      "3\n",
      "4\n",
      "5\n",
      "6\n",
      "7\n",
      "8\n"
     ]
    }
   ],
   "source": [
    "for i in range(1,9):\n",
    "    print(i)"
   ]
  }
 ],
 "metadata": {
  "kernelspec": {
   "display_name": "Python 3 (ipykernel)",
   "language": "python",
   "name": "python3"
  },
  "language_info": {
   "codemirror_mode": {
    "name": "ipython",
    "version": 3
   },
   "file_extension": ".py",
   "mimetype": "text/x-python",
   "name": "python",
   "nbconvert_exporter": "python",
   "pygments_lexer": "ipython3",
   "version": "3.11.7"
  }
 },
 "nbformat": 4,
 "nbformat_minor": 5
}
