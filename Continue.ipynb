{
 "cells": [
  {
   "cell_type": "markdown",
   "id": "3cda4771",
   "metadata": {},
   "source": [
    "# Continue\n",
    "\n",
    "- The continue statement causes the current iteration to stop.\n",
    "- It then proceeds to the next iteration.\n",
    "- It skips the statements between continue and the end of the loop block."
   ]
  },
  {
   "cell_type": "code",
   "execution_count": 2,
   "id": "967f7758",
   "metadata": {},
   "outputs": [
    {
     "name": "stdout",
     "output_type": "stream",
     "text": [
      "1\n",
      "3\n",
      "5\n",
      "7\n",
      "9\n"
     ]
    }
   ],
   "source": [
    "for i in range(10):\n",
    "    if i % 2 == 0:  # If the number is even\n",
    "        continue    # Skip the current iteration\n",
    "    print(i)"
   ]
  },
  {
   "cell_type": "code",
   "execution_count": 3,
   "id": "3edd381d",
   "metadata": {},
   "outputs": [
    {
     "name": "stdout",
     "output_type": "stream",
     "text": [
      "Alice\n",
      "Anna\n",
      "Amy\n"
     ]
    }
   ],
   "source": [
    "names = [\"Alice\", \"Bob\", \"Anna\", \"David\", \"Amy\", \"John\"]\n",
    "\n",
    "for name in names:\n",
    "    if name[0] != 'A':  # If the name doesn't start with 'A'\n",
    "        continue        # Skip the current iteration\n",
    "    print(name)"
   ]
  }
 ],
 "metadata": {
  "kernelspec": {
   "display_name": "Python 3 (ipykernel)",
   "language": "python",
   "name": "python3"
  },
  "language_info": {
   "codemirror_mode": {
    "name": "ipython",
    "version": 3
   },
   "file_extension": ".py",
   "mimetype": "text/x-python",
   "name": "python",
   "nbconvert_exporter": "python",
   "pygments_lexer": "ipython3",
   "version": "3.11.7"
  }
 },
 "nbformat": 4,
 "nbformat_minor": 5
}
