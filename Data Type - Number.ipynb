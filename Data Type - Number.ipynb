{
 "cells": [
  {
   "cell_type": "markdown",
   "id": "2fd43e5d",
   "metadata": {},
   "source": [
    "# Number\n",
    "Numbers Numeric types in Python are divided into 3: int, float, complex."
   ]
  },
  {
   "cell_type": "markdown",
   "id": "1a67ca7b",
   "metadata": {},
   "source": [
    "### Integer"
   ]
  },
  {
   "cell_type": "code",
   "execution_count": 1,
   "id": "0bd17ac2",
   "metadata": {},
   "outputs": [],
   "source": [
    "a = 10"
   ]
  },
  {
   "cell_type": "code",
   "execution_count": 2,
   "id": "674c649e",
   "metadata": {},
   "outputs": [
    {
     "data": {
      "text/plain": [
       "int"
      ]
     },
     "execution_count": 2,
     "metadata": {},
     "output_type": "execute_result"
    }
   ],
   "source": [
    "type(a)"
   ]
  },
  {
   "cell_type": "markdown",
   "id": "deedaf81",
   "metadata": {},
   "source": [
    "### Float"
   ]
  },
  {
   "cell_type": "code",
   "execution_count": 4,
   "id": "3285e48c",
   "metadata": {},
   "outputs": [],
   "source": [
    "b = 1.7"
   ]
  },
  {
   "cell_type": "code",
   "execution_count": 5,
   "id": "edde88a0",
   "metadata": {},
   "outputs": [
    {
     "data": {
      "text/plain": [
       "float"
      ]
     },
     "execution_count": 5,
     "metadata": {},
     "output_type": "execute_result"
    }
   ],
   "source": [
    "type(b)"
   ]
  },
  {
   "cell_type": "markdown",
   "id": "9fa855aa",
   "metadata": {},
   "source": [
    "### Complex\n",
    "\n",
    "The number types in Python also support imaginary numbers and complex numbers. The value of a complex number is written in the form x + yj, where x is the real part and y is the imaginary part."
   ]
  },
  {
   "cell_type": "code",
   "execution_count": 7,
   "id": "f6565ef6",
   "metadata": {},
   "outputs": [],
   "source": [
    "c = 1 + 2j"
   ]
  },
  {
   "cell_type": "code",
   "execution_count": 8,
   "id": "f4ef230a",
   "metadata": {},
   "outputs": [
    {
     "data": {
      "text/plain": [
       "complex"
      ]
     },
     "execution_count": 8,
     "metadata": {},
     "output_type": "execute_result"
    }
   ],
   "source": [
    "type(c)"
   ]
  }
 ],
 "metadata": {
  "kernelspec": {
   "display_name": "Python 3 (ipykernel)",
   "language": "python",
   "name": "python3"
  },
  "language_info": {
   "codemirror_mode": {
    "name": "ipython",
    "version": 3
   },
   "file_extension": ".py",
   "mimetype": "text/x-python",
   "name": "python",
   "nbconvert_exporter": "python",
   "pygments_lexer": "ipython3",
   "version": "3.11.7"
  }
 },
 "nbformat": 4,
 "nbformat_minor": 5
}
