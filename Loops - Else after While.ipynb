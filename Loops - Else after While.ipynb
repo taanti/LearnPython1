{
 "cells": [
  {
   "cell_type": "markdown",
   "id": "59ee19ea",
   "metadata": {},
   "source": [
    "# Else after While\n",
    "In a while statement, the else block will always be executed when the condition in the while statement becomes false."
   ]
  },
  {
   "cell_type": "code",
   "execution_count": 12,
   "id": "5a57d7a8",
   "metadata": {},
   "outputs": [
    {
     "name": "stdout",
     "output_type": "stream",
     "text": [
      "2\n",
      "4\n",
      "6\n"
     ]
    }
   ],
   "source": [
    "number = int(input())\n",
    "             \n",
    "while (number < 10):\n",
    "    number = number + 2\n",
    "    if number == 8:\n",
    "        break\n",
    "    print(number)\n",
    "else:\n",
    "    print(\"Loop End\")"
   ]
  },
  {
   "cell_type": "code",
   "execution_count": 11,
   "id": "d55adca1",
   "metadata": {},
   "outputs": [
    {
     "ename": "IndentationError",
     "evalue": "unexpected indent (846703438.py, line 7)",
     "output_type": "error",
     "traceback": [
      "\u001b[1;36m  Cell \u001b[1;32mIn[11], line 7\u001b[1;36m\u001b[0m\n\u001b[1;33m    print(number)\u001b[0m\n\u001b[1;37m    ^\u001b[0m\n\u001b[1;31mIndentationError\u001b[0m\u001b[1;31m:\u001b[0m unexpected indent\n"
     ]
    }
   ],
   "source": [
    "number = int(input())\n",
    "             \n",
    "while (number < 20):\n",
    "    if number == 16:\n",
    "        break\n",
    "    number = number + 4\n",
    "        print(number)\n",
    "    else:\n",
    "        print(\"Loop End\")"
   ]
  },
  {
   "cell_type": "code",
   "execution_count": null,
   "id": "a90e5147",
   "metadata": {},
   "outputs": [],
   "source": []
  }
 ],
 "metadata": {
  "kernelspec": {
   "display_name": "Python 3 (ipykernel)",
   "language": "python",
   "name": "python3"
  },
  "language_info": {
   "codemirror_mode": {
    "name": "ipython",
    "version": 3
   },
   "file_extension": ".py",
   "mimetype": "text/x-python",
   "name": "python",
   "nbconvert_exporter": "python",
   "pygments_lexer": "ipython3",
   "version": "3.11.7"
  }
 },
 "nbformat": 4,
 "nbformat_minor": 5
}
