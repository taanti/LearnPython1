{
 "cells": [
  {
   "cell_type": "markdown",
   "id": "02dd4894",
   "metadata": {},
   "source": [
    "# String\n",
    "Strings are sequences of Unicode characters declared with single or double quotes. Multi-line strings can be denoted by triple single or double quotes."
   ]
  },
  {
   "cell_type": "markdown",
   "id": "5fb634d5",
   "metadata": {},
   "source": [
    "### Double Quotes"
   ]
  },
  {
   "cell_type": "code",
   "execution_count": 1,
   "id": "da4e3e58",
   "metadata": {},
   "outputs": [],
   "source": [
    "a = \"Hello You\""
   ]
  },
  {
   "cell_type": "code",
   "execution_count": 2,
   "id": "8c51b4cb",
   "metadata": {},
   "outputs": [
    {
     "name": "stdout",
     "output_type": "stream",
     "text": [
      "Hello You\n"
     ]
    }
   ],
   "source": [
    "print (a)"
   ]
  },
  {
   "cell_type": "code",
   "execution_count": 3,
   "id": "c4b63408",
   "metadata": {},
   "outputs": [
    {
     "data": {
      "text/plain": [
       "str"
      ]
     },
     "execution_count": 3,
     "metadata": {},
     "output_type": "execute_result"
    }
   ],
   "source": [
    "type (a)"
   ]
  },
  {
   "cell_type": "markdown",
   "id": "bb7fcd45",
   "metadata": {},
   "source": [
    "### Single Quotes"
   ]
  },
  {
   "cell_type": "code",
   "execution_count": 4,
   "id": "d9c73d4b",
   "metadata": {},
   "outputs": [],
   "source": [
    "a = 'Hello You'"
   ]
  },
  {
   "cell_type": "code",
   "execution_count": 5,
   "id": "db3421c2",
   "metadata": {},
   "outputs": [
    {
     "name": "stdout",
     "output_type": "stream",
     "text": [
      "Hello You\n"
     ]
    }
   ],
   "source": [
    "print(a)"
   ]
  },
  {
   "cell_type": "markdown",
   "id": "60dae85b",
   "metadata": {},
   "source": [
    "### Line Break"
   ]
  },
  {
   "cell_type": "code",
   "execution_count": 6,
   "id": "31658477",
   "metadata": {},
   "outputs": [],
   "source": [
    "a = \"\"\"Bootcamp Data Analyst.\n",
    "Kampus Merdeka x MyEduSolve.\n",
    "Kelas B.\"\"\""
   ]
  },
  {
   "cell_type": "code",
   "execution_count": 7,
   "id": "fed06dee",
   "metadata": {},
   "outputs": [
    {
     "name": "stdout",
     "output_type": "stream",
     "text": [
      "Bootcamp Data Analyst.\n",
      "Kampus Merdeka x MyEduSolve.\n",
      "Kelas B.\n"
     ]
    }
   ],
   "source": [
    "print (a)"
   ]
  },
  {
   "cell_type": "code",
   "execution_count": 8,
   "id": "c6c9ea47",
   "metadata": {},
   "outputs": [],
   "source": [
    "b = \"Bootcamp Data Analyst. \\nKampus Merdeka x MyEduSolve. \\nKelas B.\""
   ]
  },
  {
   "cell_type": "code",
   "execution_count": 9,
   "id": "83995e4a",
   "metadata": {},
   "outputs": [
    {
     "name": "stdout",
     "output_type": "stream",
     "text": [
      "Bootcamp Data Analyst. \n",
      "Kampus Merdeka x MyEduSolve. \n",
      "Kelas B.\n"
     ]
    }
   ],
   "source": [
    "print (b)"
   ]
  }
 ],
 "metadata": {
  "kernelspec": {
   "display_name": "Python 3 (ipykernel)",
   "language": "python",
   "name": "python3"
  },
  "language_info": {
   "codemirror_mode": {
    "name": "ipython",
    "version": 3
   },
   "file_extension": ".py",
   "mimetype": "text/x-python",
   "name": "python",
   "nbconvert_exporter": "python",
   "pygments_lexer": "ipython3",
   "version": "3.11.7"
  }
 },
 "nbformat": 4,
 "nbformat_minor": 5
}
