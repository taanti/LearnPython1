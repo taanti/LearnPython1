{
 "cells": [
  {
   "cell_type": "markdown",
   "id": "9b1b7291",
   "metadata": {},
   "source": [
    "# List\n",
    "\n",
    "A list is an ordered sequence of data and is commonly used in Python. While similar to arrays in other programming languages, it differs in that its elements can have different data types. Declaring a list is straightforward with square brackets, and its elements are separated by commas.\n",
    "\n"
   ]
  },
  {
   "cell_type": "code",
   "execution_count": 1,
   "id": "2f38d735",
   "metadata": {},
   "outputs": [],
   "source": [
    "Datalist = [5, 6.7, \"Eight\"]"
   ]
  },
  {
   "cell_type": "code",
   "execution_count": 2,
   "id": "9c83b2c3",
   "metadata": {},
   "outputs": [
    {
     "name": "stdout",
     "output_type": "stream",
     "text": [
      "[5, 6.7, 'Eight']\n"
     ]
    }
   ],
   "source": [
    "print(Datalist)"
   ]
  },
  {
   "cell_type": "code",
   "execution_count": 3,
   "id": "7810c225",
   "metadata": {},
   "outputs": [
    {
     "data": {
      "text/plain": [
       "list"
      ]
     },
     "execution_count": 3,
     "metadata": {},
     "output_type": "execute_result"
    }
   ],
   "source": [
    "type(Datalist)"
   ]
  },
  {
   "cell_type": "markdown",
   "id": "9e1563fa",
   "metadata": {},
   "source": [
    "In Python, each data within a data structure can be accessed with indices starting from 0 (the first index)."
   ]
  },
  {
   "cell_type": "code",
   "execution_count": 4,
   "id": "c8b68cb2",
   "metadata": {},
   "outputs": [
    {
     "name": "stdout",
     "output_type": "stream",
     "text": [
      "5\n",
      "<class 'int'>\n"
     ]
    }
   ],
   "source": [
    "print(Datalist[0])\n",
    "print(type(Datalist[0]))"
   ]
  },
  {
   "cell_type": "code",
   "execution_count": 5,
   "id": "023c8501",
   "metadata": {},
   "outputs": [
    {
     "name": "stdout",
     "output_type": "stream",
     "text": [
      "6.7\n",
      "<class 'float'>\n"
     ]
    }
   ],
   "source": [
    "print(Datalist[1])\n",
    "print(type(Datalist[1]))"
   ]
  },
  {
   "cell_type": "code",
   "execution_count": 6,
   "id": "4f7ab2f0",
   "metadata": {},
   "outputs": [
    {
     "name": "stdout",
     "output_type": "stream",
     "text": [
      "Eight\n",
      "<class 'str'>\n"
     ]
    }
   ],
   "source": [
    "print(Datalist[2])\n",
    "print(type(Datalist[2]))"
   ]
  },
  {
   "cell_type": "markdown",
   "id": "1f2c0638",
   "metadata": {},
   "source": [
    "Lists in Python are mutable data structures, meaning you can change their elements after the list is created. This allows you to modify the data stored in the list as needed"
   ]
  },
  {
   "cell_type": "code",
   "execution_count": 7,
   "id": "93785107",
   "metadata": {},
   "outputs": [
    {
     "name": "stdout",
     "output_type": "stream",
     "text": [
      "10\n"
     ]
    }
   ],
   "source": [
    "Datalist[0] = 10\n",
    "print(Datalist[0])"
   ]
  },
  {
   "cell_type": "code",
   "execution_count": 8,
   "id": "34814add",
   "metadata": {},
   "outputs": [
    {
     "name": "stdout",
     "output_type": "stream",
     "text": [
      "10\n",
      "<class 'int'>\n"
     ]
    }
   ],
   "source": [
    "print(Datalist[0])\n",
    "print(type(Datalist[0]))"
   ]
  }
 ],
 "metadata": {
  "kernelspec": {
   "display_name": "Python 3 (ipykernel)",
   "language": "python",
   "name": "python3"
  },
  "language_info": {
   "codemirror_mode": {
    "name": "ipython",
    "version": 3
   },
   "file_extension": ".py",
   "mimetype": "text/x-python",
   "name": "python",
   "nbconvert_exporter": "python",
   "pygments_lexer": "ipython3",
   "version": "3.11.7"
  }
 },
 "nbformat": 4,
 "nbformat_minor": 5
}
