{
 "cells": [
  {
   "cell_type": "markdown",
   "id": "f43b35ff",
   "metadata": {},
   "source": [
    "# Multiplication\n",
    "\n",
    " In Python, the multiplication operator * is used to perform multiplication operations between two numbers or variables."
   ]
  },
  {
   "cell_type": "code",
   "execution_count": 1,
   "id": "ec3023db",
   "metadata": {},
   "outputs": [
    {
     "data": {
      "text/plain": [
       "20"
      ]
     },
     "execution_count": 1,
     "metadata": {},
     "output_type": "execute_result"
    }
   ],
   "source": [
    "4*5"
   ]
  },
  {
   "cell_type": "markdown",
   "id": "612234bb",
   "metadata": {},
   "source": [
    "To return a string repeated a certain number of times, you can use the multiplication operator \" * \". "
   ]
  },
  {
   "cell_type": "code",
   "execution_count": 2,
   "id": "f36e109a",
   "metadata": {},
   "outputs": [
    {
     "data": {
      "text/plain": [
       "'TestTestTest'"
      ]
     },
     "execution_count": 2,
     "metadata": {},
     "output_type": "execute_result"
    }
   ],
   "source": [
    "\"Test\"*3"
   ]
  },
  {
   "cell_type": "markdown",
   "id": "af36eb45",
   "metadata": {},
   "source": [
    "Exponent"
   ]
  },
  {
   "cell_type": "code",
   "execution_count": 3,
   "id": "0da9a8eb",
   "metadata": {},
   "outputs": [
    {
     "data": {
      "text/plain": [
       "8"
      ]
     },
     "execution_count": 3,
     "metadata": {},
     "output_type": "execute_result"
    }
   ],
   "source": [
    "2**3"
   ]
  },
  {
   "cell_type": "markdown",
   "id": "21769114",
   "metadata": {},
   "source": [
    "In Python, using the multiplication operator \"*\" with a fractional exponent like 0.5 calculates the square root efficiently. For instance, x**0.5 gives the square root of x."
   ]
  },
  {
   "cell_type": "code",
   "execution_count": 4,
   "id": "a72cb238",
   "metadata": {},
   "outputs": [
    {
     "data": {
      "text/plain": [
       "9.0"
      ]
     },
     "execution_count": 4,
     "metadata": {},
     "output_type": "execute_result"
    }
   ],
   "source": [
    "81**0.5"
   ]
  }
 ],
 "metadata": {
  "kernelspec": {
   "display_name": "Python 3 (ipykernel)",
   "language": "python",
   "name": "python3"
  },
  "language_info": {
   "codemirror_mode": {
    "name": "ipython",
    "version": 3
   },
   "file_extension": ".py",
   "mimetype": "text/x-python",
   "name": "python",
   "nbconvert_exporter": "python",
   "pygments_lexer": "ipython3",
   "version": "3.11.7"
  }
 },
 "nbformat": 4,
 "nbformat_minor": 5
}
