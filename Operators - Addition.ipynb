{
 "cells": [
  {
   "cell_type": "markdown",
   "id": "8d006159",
   "metadata": {},
   "source": [
    "### Operator\n",
    "\n",
    "1+2 is an expression where:\n",
    "\n",
    "\"+\" is the operator.\n",
    "1 and 2 are operands or variables.\n",
    "We can perform expressions without directly using variables in Python interactive mode."
   ]
  },
  {
   "cell_type": "code",
   "execution_count": 1,
   "id": "defb5911",
   "metadata": {},
   "outputs": [
    {
     "name": "stdout",
     "output_type": "stream",
     "text": [
      "3\n"
     ]
    }
   ],
   "source": [
    "print (1+2)"
   ]
  },
  {
   "cell_type": "markdown",
   "id": "ae60743e",
   "metadata": {},
   "source": [
    "# Addition\n",
    "The operator \"+\" (addition) is used both for addition in mathematical operations and for concatenation of strings in programming."
   ]
  },
  {
   "cell_type": "code",
   "execution_count": 2,
   "id": "e1c1a677",
   "metadata": {},
   "outputs": [
    {
     "data": {
      "text/plain": [
       "11"
      ]
     },
     "execution_count": 2,
     "metadata": {},
     "output_type": "execute_result"
    }
   ],
   "source": [
    "5+6"
   ]
  },
  {
   "cell_type": "code",
   "execution_count": 3,
   "id": "95c328d9",
   "metadata": {},
   "outputs": [
    {
     "data": {
      "text/plain": [
       "'data'"
      ]
     },
     "execution_count": 3,
     "metadata": {},
     "output_type": "execute_result"
    }
   ],
   "source": [
    "'da' + 'ta'"
   ]
  }
 ],
 "metadata": {
  "kernelspec": {
   "display_name": "Python 3 (ipykernel)",
   "language": "python",
   "name": "python3"
  },
  "language_info": {
   "codemirror_mode": {
    "name": "ipython",
    "version": 3
   },
   "file_extension": ".py",
   "mimetype": "text/x-python",
   "name": "python",
   "nbconvert_exporter": "python",
   "pygments_lexer": "ipython3",
   "version": "3.11.7"
  }
 },
 "nbformat": 4,
 "nbformat_minor": 5
}
