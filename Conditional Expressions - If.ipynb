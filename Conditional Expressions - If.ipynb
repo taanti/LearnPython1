{
 "cells": [
  {
   "cell_type": "markdown",
   "id": "55df1441",
   "metadata": {},
   "source": [
    "# IF\n",
    "\n",
    "- In Python, the expression is placed after the if keyword, and the decision is based on the truth value of that expression.\n",
    "- If the expression evaluates to True, then the statements inside the if statement block will be executed.\n",
    "- According to convention, this block is indented after the colon (:).\n",
    "- If the expression evaluates to False, then the next block (after the IF statement) will be executed."
   ]
  },
  {
   "cell_type": "code",
   "execution_count": 2,
   "id": "2b9f2414",
   "metadata": {},
   "outputs": [
    {
     "name": "stdout",
     "output_type": "stream",
     "text": [
      "Yes My Name is Akkio\n"
     ]
    }
   ],
   "source": [
    "myname = \"Akkio\"\n",
    "if myname:\n",
    "    print(\"Yes, My Name is {}\".format(myname))"
   ]
  },
  {
   "cell_type": "code",
   "execution_count": 3,
   "id": "879ca22e",
   "metadata": {
    "scrolled": true
   },
   "outputs": [
    {
     "name": "stdout",
     "output_type": "stream",
     "text": [
      "Yes, My Age is 24\n"
     ]
    }
   ],
   "source": [
    "age = \"24\"\n",
    "if age:\n",
    "    print(\"Yes, My Age is {}\".format(age))"
   ]
  }
 ],
 "metadata": {
  "kernelspec": {
   "display_name": "Python 3 (ipykernel)",
   "language": "python",
   "name": "python3"
  },
  "language_info": {
   "codemirror_mode": {
    "name": "ipython",
    "version": 3
   },
   "file_extension": ".py",
   "mimetype": "text/x-python",
   "name": "python",
   "nbconvert_exporter": "python",
   "pygments_lexer": "ipython3",
   "version": "3.11.7"
  }
 },
 "nbformat": 4,
 "nbformat_minor": 5
}
