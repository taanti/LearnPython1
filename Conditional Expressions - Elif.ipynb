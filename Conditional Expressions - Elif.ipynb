{
 "cells": [
  {
   "cell_type": "markdown",
   "id": "9465beee",
   "metadata": {},
   "source": [
    "# Elif\n",
    "\n",
    "- Elif is short for else if.\n",
    "- Elif is an alternative for nested if.\n",
    "- An IF statement can be followed by one or more elif statements (optional & unlimited)."
   ]
  },
  {
   "cell_type": "code",
   "execution_count": 1,
   "id": "796d3891",
   "metadata": {},
   "outputs": [
    {
     "name": "stdout",
     "output_type": "stream",
     "text": [
      "Input your grade: 80\n",
      "Get A\n"
     ]
    }
   ],
   "source": [
    "grade = int(input(\"Input your grade: \"))\n",
    "\n",
    "if grade >= 80:\n",
    "    print( \"Get A\")\n",
    "elif grade >= 60:\n",
    "    print( \"Get B\")\n",
    "else:\n",
    "    print( \"Get C\")"
   ]
  },
  {
   "cell_type": "code",
   "execution_count": 3,
   "id": "feebb4ac",
   "metadata": {},
   "outputs": [
    {
     "name": "stdout",
     "output_type": "stream",
     "text": [
      "Which menu would you like to order: katsu\n",
      "Unrecognized menu.\n"
     ]
    }
   ],
   "source": [
    "#Accept input from the user and convert it to lowercase letters\n",
    "menu = input(\"Which menu would you like to order: \").lower()\n",
    "\n",
    "#Checking if the menu is available\n",
    "if menu == \"meatball\":\n",
    "    print(\"Menu is not available.\")\n",
    "elif menu == \"fried rice\":\n",
    "    print(\"Menu is available.\")\n",
    "elif menu == \"chicken noodles\":\n",
    "    print(\"Only 2 portions available.\")\n",
    "else:\n",
    "    print(\"Unrecognized menu.\")"
   ]
  }
 ],
 "metadata": {
  "kernelspec": {
   "display_name": "Python 3 (ipykernel)",
   "language": "python",
   "name": "python3"
  },
  "language_info": {
   "codemirror_mode": {
    "name": "ipython",
    "version": 3
   },
   "file_extension": ".py",
   "mimetype": "text/x-python",
   "name": "python",
   "nbconvert_exporter": "python",
   "pygments_lexer": "ipython3",
   "version": "3.11.7"
  }
 },
 "nbformat": 4,
 "nbformat_minor": 5
}
