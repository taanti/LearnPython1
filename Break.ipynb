{
 "cells": [
  {
   "cell_type": "markdown",
   "id": "d6cf4250",
   "metadata": {},
   "source": [
    "# Break\n",
    "\n",
    "- The break statement terminates the loop it is inside, then resumes execution at the next statement following the loop.\n",
    "- If you have nested loops, break will only stop the loop it's inside, corresponding to its level.\n",
    "- However, if placed in a second-level loop, for instance, only that loop will stop; the outer loop will continue executing."
   ]
  },
  {
   "cell_type": "code",
   "execution_count": 1,
   "id": "a18564cf",
   "metadata": {},
   "outputs": [
    {
     "name": "stdout",
     "output_type": "stream",
     "text": [
      "D\n",
      "a\n",
      "t\n",
      "a\n"
     ]
    }
   ],
   "source": [
    "for i in \"Data Science\":\n",
    "    if i == \" \":\n",
    "        break\n",
    "    print(i)"
   ]
  },
  {
   "cell_type": "code",
   "execution_count": 2,
   "id": "74a994f7",
   "metadata": {},
   "outputs": [
    {
     "name": "stdout",
     "output_type": "stream",
     "text": [
      "10\n",
      "11\n",
      "12\n",
      "13\n",
      "14\n",
      "15\n",
      "16\n"
     ]
    }
   ],
   "source": [
    "for i in range(10,19):\n",
    "    if i == 17:\n",
    "        break\n",
    "    print(i)"
   ]
  },
  {
   "cell_type": "code",
   "execution_count": 3,
   "id": "93ad6bd2",
   "metadata": {},
   "outputs": [
    {
     "name": "stdout",
     "output_type": "stream",
     "text": [
      "W\n",
      "h\n",
      "a\n",
      "t\n",
      "s\n",
      "a\n",
      "p\n",
      "p\n",
      " \n",
      "G\n",
      "r\n",
      "o\n",
      "u\n",
      "p\n"
     ]
    }
   ],
   "source": [
    "for j in \"Whatsapp Group, Whatsapp Massanger\":\n",
    "    if j == \",\":\n",
    "        break\n",
    "    print(j)"
   ]
  },
  {
   "cell_type": "code",
   "execution_count": null,
   "id": "a3fc88c2",
   "metadata": {},
   "outputs": [],
   "source": []
  }
 ],
 "metadata": {
  "kernelspec": {
   "display_name": "Python 3 (ipykernel)",
   "language": "python",
   "name": "python3"
  },
  "language_info": {
   "codemirror_mode": {
    "name": "ipython",
    "version": 3
   },
   "file_extension": ".py",
   "mimetype": "text/x-python",
   "name": "python",
   "nbconvert_exporter": "python",
   "pygments_lexer": "ipython3",
   "version": "3.11.7"
  }
 },
 "nbformat": 4,
 "nbformat_minor": 5
}
