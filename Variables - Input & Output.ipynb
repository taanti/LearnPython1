{
 "cells": [
  {
   "cell_type": "markdown",
   "id": "3f306143",
   "metadata": {},
   "source": [
    "# Input & Output\n",
    "\n",
    "To allow the user to provide input in your program, you can use the input() function, with the argument inside the parentheses being the text you want to display (prompt), and the variable before the equal sign (=) (z) is the container for the result of the user input. Output can be displayed using the print() function, where you can pass variables or values that you want to display as output."
   ]
  },
  {
   "cell_type": "code",
   "execution_count": 1,
   "id": "f480170d",
   "metadata": {},
   "outputs": [
    {
     "name": "stdout",
     "output_type": "stream",
     "text": [
      "test\n"
     ]
    },
    {
     "data": {
      "text/plain": [
       "'test'"
      ]
     },
     "execution_count": 1,
     "metadata": {},
     "output_type": "execute_result"
    }
   ],
   "source": [
    "input()"
   ]
  },
  {
   "cell_type": "code",
   "execution_count": 3,
   "id": "3f15b38b",
   "metadata": {},
   "outputs": [
    {
     "name": "stdout",
     "output_type": "stream",
     "text": [
      "My Name: Akkio\n"
     ]
    }
   ],
   "source": [
    "name = input(\"My Name: \")"
   ]
  },
  {
   "cell_type": "code",
   "execution_count": 4,
   "id": "a4e6d1e9",
   "metadata": {},
   "outputs": [
    {
     "name": "stdout",
     "output_type": "stream",
     "text": [
      "My Name is Akkio\n"
     ]
    }
   ],
   "source": [
    "print(\"My Name is {}\".format(name))"
   ]
  },
  {
   "cell_type": "markdown",
   "id": "e0b5c510",
   "metadata": {},
   "source": [
    "By default, the input from the user is treated as a string."
   ]
  },
  {
   "cell_type": "code",
   "execution_count": 5,
   "id": "49a6c87b",
   "metadata": {},
   "outputs": [
    {
     "name": "stdout",
     "output_type": "stream",
     "text": [
      "My Age : 21\n"
     ]
    }
   ],
   "source": [
    "Age = input(\"My Age : \")"
   ]
  },
  {
   "cell_type": "code",
   "execution_count": 6,
   "id": "27bd12d8",
   "metadata": {},
   "outputs": [
    {
     "name": "stdout",
     "output_type": "stream",
     "text": [
      "21\n"
     ]
    }
   ],
   "source": [
    "print(Age)"
   ]
  },
  {
   "cell_type": "code",
   "execution_count": 7,
   "id": "7563fd4a",
   "metadata": {},
   "outputs": [
    {
     "data": {
      "text/plain": [
       "str"
      ]
     },
     "execution_count": 7,
     "metadata": {},
     "output_type": "execute_result"
    }
   ],
   "source": [
    "type(Age)"
   ]
  },
  {
   "cell_type": "markdown",
   "id": "857be7eb",
   "metadata": {},
   "source": [
    "IntAge = int(input(\"My Age: \")) is used to ensure that the input provided by the user is directly converted into an integer data type, avoiding it being treated as a string."
   ]
  },
  {
   "cell_type": "code",
   "execution_count": 12,
   "id": "a170cfb0",
   "metadata": {},
   "outputs": [
    {
     "name": "stdout",
     "output_type": "stream",
     "text": [
      "My Age: 20\n"
     ]
    }
   ],
   "source": [
    "IntAge = int(input(\"My Age: \"))"
   ]
  },
  {
   "cell_type": "code",
   "execution_count": 1,
   "id": "bbfb6d4d",
   "metadata": {},
   "outputs": [
    {
     "ename": "NameError",
     "evalue": "name 'IntAge' is not defined",
     "output_type": "error",
     "traceback": [
      "\u001b[1;31m---------------------------------------------------------------------------\u001b[0m",
      "\u001b[1;31mNameError\u001b[0m                                 Traceback (most recent call last)",
      "Cell \u001b[1;32mIn[1], line 1\u001b[0m\n\u001b[1;32m----> 1\u001b[0m \u001b[38;5;28mtype\u001b[39m(IntAge)\n",
      "\u001b[1;31mNameError\u001b[0m: name 'IntAge' is not defined"
     ]
    }
   ],
   "source": [
    "type(IntAge)"
   ]
  },
  {
   "cell_type": "markdown",
   "id": "62f0ff46",
   "metadata": {},
   "source": [
    "Example :"
   ]
  },
  {
   "cell_type": "code",
   "execution_count": 2,
   "id": "1a216ba1",
   "metadata": {},
   "outputs": [
    {
     "name": "stdout",
     "output_type": "stream",
     "text": [
      "Enter your name: Yosh\n",
      "Enter your age: 23\n",
      "Hello Yosh, you are 23 years old.\n"
     ]
    }
   ],
   "source": [
    "# Reading user input\n",
    "name = input(\"Enter your name: \")\n",
    "age = int(input(\"Enter your age: \"))  # Converting input to integer\n",
    "\n",
    "# Displaying output\n",
    "print(\"Hello {}, you are {} years old.\".format(name, age))\n"
   ]
  },
  {
   "cell_type": "code",
   "execution_count": null,
   "id": "f39618e8",
   "metadata": {},
   "outputs": [],
   "source": []
  }
 ],
 "metadata": {
  "kernelspec": {
   "display_name": "Python 3 (ipykernel)",
   "language": "python",
   "name": "python3"
  },
  "language_info": {
   "codemirror_mode": {
    "name": "ipython",
    "version": 3
   },
   "file_extension": ".py",
   "mimetype": "text/x-python",
   "name": "python",
   "nbconvert_exporter": "python",
   "pygments_lexer": "ipython3",
   "version": "3.11.7"
  }
 },
 "nbformat": 4,
 "nbformat_minor": 5
}
