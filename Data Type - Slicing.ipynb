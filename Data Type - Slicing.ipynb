{
 "cells": [
  {
   "cell_type": "markdown",
   "id": "509ec61f",
   "metadata": {},
   "source": [
    "# Slicing\n",
    "\n",
    "Slicing is a technique in Python used to extract a portion of a sequence (such as a string, list, tuple, or array) by specifying a range of indices. It allows you to retrieve a specific subset of elements from the sequence. \n",
    "\n",
    "The syntax for slicing is typically [start:stop:step], where:\n",
    "\n",
    "- start is the index where the slice begins (inclusive).\n",
    "- stop is the index where the slice ends (exclusive).\n",
    "- step (optional) is the interval between elements to be included in the slice (default is 1).\n",
    "\n",
    "Here's an example using the list data type:"
   ]
  },
  {
   "cell_type": "code",
   "execution_count": 1,
   "id": "4092a6b9",
   "metadata": {},
   "outputs": [],
   "source": [
    "Datalist = [5, 6.7, \"Eight\"]"
   ]
  },
  {
   "cell_type": "code",
   "execution_count": 3,
   "id": "f4cc6391",
   "metadata": {},
   "outputs": [
    {
     "name": "stdout",
     "output_type": "stream",
     "text": [
      "Original List: [5, 6.7, 'Eight']\n",
      "Sliced List: [5, 6.7]\n"
     ]
    }
   ],
   "source": [
    "sliced_list = Datalist[0:2]\n",
    "\n",
    "print(\"Original List:\", Datalist)\n",
    "print(\"Sliced List:\", sliced_list)"
   ]
  }
 ],
 "metadata": {
  "kernelspec": {
   "display_name": "Python 3 (ipykernel)",
   "language": "python",
   "name": "python3"
  },
  "language_info": {
   "codemirror_mode": {
    "name": "ipython",
    "version": 3
   },
   "file_extension": ".py",
   "mimetype": "text/x-python",
   "name": "python",
   "nbconvert_exporter": "python",
   "pygments_lexer": "ipython3",
   "version": "3.11.7"
  }
 },
 "nbformat": 4,
 "nbformat_minor": 5
}
