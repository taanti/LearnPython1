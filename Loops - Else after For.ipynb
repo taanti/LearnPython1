{
 "cells": [
  {
   "cell_type": "markdown",
   "id": "cd8733da",
   "metadata": {},
   "source": [
    "# \"Else\" after \"For\"\n",
    "\n",
    "The function of \"else\" after \"for\" is primarily focused on loops that involve searching - to provide an exit route for the program when the search is not found."
   ]
  },
  {
   "cell_type": "code",
   "execution_count": 3,
   "id": "67ae9311",
   "metadata": {},
   "outputs": [
    {
     "name": "stdout",
     "output_type": "stream",
     "text": [
      "1 This number is not even\n",
      "2 This number is even\n",
      "3 This number is not even\n",
      "4 This number is even\n",
      "5 This number is not even\n",
      "6 This number is even\n"
     ]
    }
   ],
   "source": [
    "for i in range(1,7):\n",
    "    if i%2 == 0:\n",
    "        print(\"{} This number is even\".format(i))\n",
    "    else:\n",
    "        print(\"{} This number is not even\".format(i))"
   ]
  },
  {
   "cell_type": "code",
   "execution_count": 4,
   "id": "46f8f5b3",
   "metadata": {},
   "outputs": [
    {
     "name": "stdout",
     "output_type": "stream",
     "text": [
      "1 This number is not divisible by 3\n",
      "2 This number is not divisible by 3\n",
      "3 This number is divisible by 3\n",
      "4 This number is not divisible by 3\n",
      "5 This number is not divisible by 3\n",
      "6 This number is divisible by 3\n",
      "7 This number is not divisible by 3\n",
      "8 This number is not divisible by 3\n"
     ]
    }
   ],
   "source": [
    "for x in range(1,9):\n",
    "    if x % 3 == 0:\n",
    "        print(\"{} This number is divisible by 3\".format(x))\n",
    "    else:\n",
    "        print(\"{} This number is not divisible by 3\".format(x))"
   ]
  },
  {
   "cell_type": "code",
   "execution_count": 5,
   "id": "bfc53416",
   "metadata": {},
   "outputs": [
    {
     "name": "stdout",
     "output_type": "stream",
     "text": [
      "1 : The remainder is 1 when divided by 3\n",
      "2 : The remainder is 2 when divided by 3\n",
      "3 : Divisible by 3\n",
      "4 : The remainder is 1 when divided by 3\n",
      "5 : The remainder is 2 when divided by 3\n",
      "6 : Divisible by 3\n",
      "7 : The remainder is 1 when divided by 3\n",
      "8 : The remainder is 2 when divided by 3\n"
     ]
    }
   ],
   "source": [
    "for i in range(1,9):\n",
    "    if i % 3 == 0:\n",
    "        print(\"{} : Divisible by 3\".format(i))\n",
    "    elif i % 3 == 1:\n",
    "        print(\"{} : The remainder is 1 when divided by 3\".format(i))\n",
    "    else:\n",
    "        print(\"{} : The remainder is 2 when divided by 3\".format(i))"
   ]
  }
 ],
 "metadata": {
  "kernelspec": {
   "display_name": "Python 3 (ipykernel)",
   "language": "python",
   "name": "python3"
  },
  "language_info": {
   "codemirror_mode": {
    "name": "ipython",
    "version": 3
   },
   "file_extension": ".py",
   "mimetype": "text/x-python",
   "name": "python",
   "nbconvert_exporter": "python",
   "pygments_lexer": "ipython3",
   "version": "3.11.7"
  }
 },
 "nbformat": 4,
 "nbformat_minor": 5
}
