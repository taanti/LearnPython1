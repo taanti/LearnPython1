{
 "cells": [
  {
   "cell_type": "markdown",
   "id": "6d1c021e",
   "metadata": {},
   "source": [
    "# List Comprehension\n",
    "\n",
    "There are times when we need to create a new list from operations on a previous list.\n",
    "\n",
    "List comprehension is one way to generate a new list based on a list or iterables that already exist."
   ]
  },
  {
   "cell_type": "code",
   "execution_count": 1,
   "id": "5eda0a12",
   "metadata": {},
   "outputs": [],
   "source": [
    "number = [3,5,7]"
   ]
  },
  {
   "cell_type": "code",
   "execution_count": 2,
   "id": "db84e234",
   "metadata": {},
   "outputs": [],
   "source": [
    "rate2 = []"
   ]
  },
  {
   "cell_type": "code",
   "execution_count": 3,
   "id": "f20f0170",
   "metadata": {},
   "outputs": [
    {
     "name": "stdout",
     "output_type": "stream",
     "text": [
      "[9, 25, 49]\n"
     ]
    }
   ],
   "source": [
    "for i in number:\n",
    "    rate2.append(i**2)\n",
    "print(rate2)"
   ]
  },
  {
   "cell_type": "code",
   "execution_count": 4,
   "id": "8f04dff0",
   "metadata": {},
   "outputs": [
    {
     "name": "stdout",
     "output_type": "stream",
     "text": [
      "[9, 25, 49]\n"
     ]
    }
   ],
   "source": [
    "print(rate2)"
   ]
  },
  {
   "cell_type": "markdown",
   "id": "ecc3b5a9",
   "metadata": {},
   "source": [
    "### Another way to write\n",
    "\n",
    "new_list = [expression for_loop_one_or_more conditions]"
   ]
  },
  {
   "cell_type": "code",
   "execution_count": 6,
   "id": "cc790385",
   "metadata": {},
   "outputs": [],
   "source": [
    "number = [3,5,7]"
   ]
  },
  {
   "cell_type": "code",
   "execution_count": 7,
   "id": "99d5dfa3",
   "metadata": {},
   "outputs": [],
   "source": [
    "rate3 = [i**3 for i in number]"
   ]
  },
  {
   "cell_type": "code",
   "execution_count": 8,
   "id": "d3f07246",
   "metadata": {},
   "outputs": [
    {
     "name": "stdout",
     "output_type": "stream",
     "text": [
      "[27, 125, 343]\n"
     ]
    }
   ],
   "source": [
    "print(rate3)"
   ]
  },
  {
   "cell_type": "code",
   "execution_count": 9,
   "id": "df1459bb",
   "metadata": {},
   "outputs": [
    {
     "name": "stdout",
     "output_type": "stream",
     "text": [
      "[1, 4, 9, 16, 25]\n"
     ]
    }
   ],
   "source": [
    "numbers = [1, 2, 3, 4, 5]\n",
    "squared_numbers = [x ** 2 for x in numbers]\n",
    "print(squared_numbers)"
   ]
  },
  {
   "cell_type": "markdown",
   "id": "15e60d43",
   "metadata": {},
   "source": [
    "Example :"
   ]
  },
  {
   "cell_type": "code",
   "execution_count": 14,
   "id": "f6d6bbf8",
   "metadata": {},
   "outputs": [
    {
     "name": "stdout",
     "output_type": "stream",
     "text": [
      "[2.0, 3.0, 4.0, 5.0]\n"
     ]
    }
   ],
   "source": [
    "number = [4, 9, 16, 25]\n",
    "square_root = []\n",
    "for i in number:\n",
    "    square_root.append(i**0.5)\n",
    "print(square_root)"
   ]
  },
  {
   "cell_type": "code",
   "execution_count": 15,
   "id": "04bb392c",
   "metadata": {},
   "outputs": [
    {
     "name": "stdout",
     "output_type": "stream",
     "text": [
      "[2.0, 3.0, 4.0, 5.0]\n"
     ]
    }
   ],
   "source": [
    "numbers = [4, 9, 16, 25]\n",
    "square_root_numbers = [x ** 0.5 for x in numbers]\n",
    "print(square_root_numbers)"
   ]
  },
  {
   "cell_type": "markdown",
   "id": "8201be82",
   "metadata": {},
   "source": [
    "- Garis Bawah (underscore) termasuk penamaan variabel yang valid.\n",
    "- Secara umum \"_\" biasa digunakan sebagai throwaway variable (variabel tidak penting)"
   ]
  },
  {
   "cell_type": "code",
   "execution_count": 12,
   "id": "6c03b15c",
   "metadata": {},
   "outputs": [
    {
     "name": "stdout",
     "output_type": "stream",
     "text": [
      "['DATA', 'SCIENCE']\n"
     ]
    }
   ],
   "source": [
    "data = [\"data\", \"science\"]\n",
    "\n",
    "upper = [_.upper() for _ in data]\n",
    "\n",
    "print(upper)"
   ]
  }
 ],
 "metadata": {
  "kernelspec": {
   "display_name": "Python 3 (ipykernel)",
   "language": "python",
   "name": "python3"
  },
  "language_info": {
   "codemirror_mode": {
    "name": "ipython",
    "version": 3
   },
   "file_extension": ".py",
   "mimetype": "text/x-python",
   "name": "python",
   "nbconvert_exporter": "python",
   "pygments_lexer": "ipython3",
   "version": "3.11.7"
  }
 },
 "nbformat": 4,
 "nbformat_minor": 5
}
