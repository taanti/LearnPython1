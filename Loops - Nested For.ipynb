{
 "cells": [
  {
   "cell_type": "markdown",
   "id": "d3afb85b",
   "metadata": {},
   "source": [
    "# Nested For\n",
    "\n",
    "Nested for loops are loops placed inside another loop. This structure allows to iterate over multiple levels of data, often used for processing two-dimensional arrays or grids."
   ]
  },
  {
   "cell_type": "code",
   "execution_count": 1,
   "id": "4b747867",
   "metadata": {},
   "outputs": [
    {
     "name": "stdout",
     "output_type": "stream",
     "text": [
      "* * * \n",
      "* * \n",
      "* \n"
     ]
    }
   ],
   "source": [
    "for row in range(3):\n",
    "    for col in range(3):\n",
    "        if row == 0 and col <= 2:\n",
    "            print(\"*\", end = \" \")\n",
    "        elif row == 1 and col <= 1:\n",
    "            print(\"*\", end = \" \")\n",
    "        elif row == 2 and col <= 0:\n",
    "            print(\"*\", end = \" \")\n",
    "    print()"
   ]
  },
  {
   "cell_type": "code",
   "execution_count": 2,
   "id": "1902e211",
   "metadata": {},
   "outputs": [
    {
     "name": "stdout",
     "output_type": "stream",
     "text": [
      "* * * * * * * \n",
      "*     *     * \n",
      "*   *   *   * \n",
      "* *   *   * * \n",
      "*   *   *   * \n",
      "*     *     * \n",
      "* * * * * * * \n"
     ]
    }
   ],
   "source": [
    "for row in range(7):\n",
    "    for col in range(7):\n",
    "        if row == 0 or row == 6 or col == 0 or col == 6:\n",
    "            print(\"*\", end=\" \")\n",
    "        elif (row == 1 or row == 5) and col == 3:\n",
    "            print(\"*\", end=\" \")\n",
    "        elif (row == 2 or row == 4) and (col == 2 or col == 4):\n",
    "            print(\"*\", end=\" \")\n",
    "        elif row == 3 and (col == 1 or col == 3 or col == 5):\n",
    "            print(\"*\", end=\" \")\n",
    "        else:\n",
    "            print(\" \", end=\" \")\n",
    "    print()\n"
   ]
  }
 ],
 "metadata": {
  "kernelspec": {
   "display_name": "Python 3 (ipykernel)",
   "language": "python",
   "name": "python3"
  },
  "language_info": {
   "codemirror_mode": {
    "name": "ipython",
    "version": 3
   },
   "file_extension": ".py",
   "mimetype": "text/x-python",
   "name": "python",
   "nbconvert_exporter": "python",
   "pygments_lexer": "ipython3",
   "version": "3.11.7"
  }
 },
 "nbformat": 4,
 "nbformat_minor": 5
}
