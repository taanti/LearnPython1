{
 "cells": [
  {
   "cell_type": "markdown",
   "id": "a0dcd1fa",
   "metadata": {},
   "source": [
    "# Using the \"%\" operator combined with argument specifiers:\n",
    "\n",
    "Some common argument specifiers are:\n",
    "- %s - String\n",
    "- %d - Integers\n",
    "- %f - Floating-point numbers"
   ]
  },
  {
   "cell_type": "code",
   "execution_count": 1,
   "id": "d24cc5b9",
   "metadata": {},
   "outputs": [],
   "source": [
    "Name = \"Akkio\""
   ]
  },
  {
   "cell_type": "code",
   "execution_count": 2,
   "id": "a04b5b0d",
   "metadata": {},
   "outputs": [
    {
     "data": {
      "text/plain": [
       "str"
      ]
     },
     "execution_count": 2,
     "metadata": {},
     "output_type": "execute_result"
    }
   ],
   "source": [
    "type(Name)"
   ]
  },
  {
   "cell_type": "code",
   "execution_count": 3,
   "id": "cdb16218",
   "metadata": {},
   "outputs": [],
   "source": [
    "Age = 21"
   ]
  },
  {
   "cell_type": "code",
   "execution_count": 4,
   "id": "d9d44b76",
   "metadata": {},
   "outputs": [
    {
     "data": {
      "text/plain": [
       "int"
      ]
     },
     "execution_count": 4,
     "metadata": {},
     "output_type": "execute_result"
    }
   ],
   "source": [
    "type(Age)"
   ]
  },
  {
   "cell_type": "code",
   "execution_count": 5,
   "id": "fdbc00a3",
   "metadata": {},
   "outputs": [
    {
     "name": "stdout",
     "output_type": "stream",
     "text": [
      "Age of Akkio is 21 Year.\n"
     ]
    }
   ],
   "source": [
    "print(\"Age of %s is %d Year.\"% (Name, Age))"
   ]
  }
 ],
 "metadata": {
  "kernelspec": {
   "display_name": "Python 3 (ipykernel)",
   "language": "python",
   "name": "python3"
  },
  "language_info": {
   "codemirror_mode": {
    "name": "ipython",
    "version": 3
   },
   "file_extension": ".py",
   "mimetype": "text/x-python",
   "name": "python",
   "nbconvert_exporter": "python",
   "pygments_lexer": "ipython3",
   "version": "3.11.7"
  }
 },
 "nbformat": 4,
 "nbformat_minor": 5
}
