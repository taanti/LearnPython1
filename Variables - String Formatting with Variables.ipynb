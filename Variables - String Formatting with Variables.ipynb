{
 "cells": [
  {
   "cell_type": "markdown",
   "id": "28e43656",
   "metadata": {},
   "source": [
    "### Variables\n",
    "\n",
    "A variable is a placeholder (in computer memory) used to store a value with a specific data type.\n",
    "\n",
    "To assign a value to a variable, we use the assignment operator between the variable name and the value to be stored."
   ]
  },
  {
   "cell_type": "markdown",
   "id": "ccb6e56d",
   "metadata": {},
   "source": [
    "# String Formatting\n",
    "\n",
    "To insert variable values into a string, Python offers several methods:\n",
    "\n",
    "\"Directly embed variables within the print() statement."
   ]
  },
  {
   "cell_type": "code",
   "execution_count": 16,
   "id": "9a025599",
   "metadata": {},
   "outputs": [],
   "source": [
    "Age = 3\n",
    "# This means we are storing the value 3 (an integer type) into the variable a."
   ]
  },
  {
   "cell_type": "code",
   "execution_count": 17,
   "id": "c393f58a",
   "metadata": {},
   "outputs": [
    {
     "data": {
      "text/plain": [
       "int"
      ]
     },
     "execution_count": 17,
     "metadata": {},
     "output_type": "execute_result"
    }
   ],
   "source": [
    "type(Age)"
   ]
  },
  {
   "cell_type": "code",
   "execution_count": 18,
   "id": "23aa8666",
   "metadata": {},
   "outputs": [
    {
     "name": "stdout",
     "output_type": "stream",
     "text": [
      "Variable value is : 3\n"
     ]
    }
   ],
   "source": [
    "print(\"Variable value is :\", Age)"
   ]
  },
  {
   "cell_type": "code",
   "execution_count": 19,
   "id": "14dfaa6f",
   "metadata": {},
   "outputs": [],
   "source": [
    "Name = \"Akkio\""
   ]
  },
  {
   "cell_type": "code",
   "execution_count": 20,
   "id": "c9956628",
   "metadata": {},
   "outputs": [
    {
     "name": "stdout",
     "output_type": "stream",
     "text": [
      "My Name is Akkio\n"
     ]
    }
   ],
   "source": [
    "print(\"My Name is\", Name)"
   ]
  },
  {
   "cell_type": "markdown",
   "id": "8057fcbc",
   "metadata": {},
   "source": [
    "To display text (String), you can use the string formatting mechanism."
   ]
  },
  {
   "cell_type": "code",
   "execution_count": 21,
   "id": "00790357",
   "metadata": {},
   "outputs": [
    {
     "name": "stdout",
     "output_type": "stream",
     "text": [
      "My Name is Akkio\n"
     ]
    }
   ],
   "source": [
    "print(\"My Name is {}\". format('Akkio'))"
   ]
  },
  {
   "cell_type": "code",
   "execution_count": 22,
   "id": "22e37b1b",
   "metadata": {},
   "outputs": [
    {
     "name": "stdout",
     "output_type": "stream",
     "text": [
      "My Name is Akkio, I'm 3 years old\n"
     ]
    }
   ],
   "source": [
    "print(\"My Name is {}, I'm {} years old\". format(Name, Age))"
   ]
  },
  {
   "cell_type": "code",
   "execution_count": 8,
   "id": "47546d3d",
   "metadata": {},
   "outputs": [
    {
     "name": "stdout",
     "output_type": "stream",
     "text": [
      "My Class is  Kelas DA B \n"
     ]
    }
   ],
   "source": [
    "print('My Class is {} '.format(' Kelas DA B'))"
   ]
  },
  {
   "cell_type": "code",
   "execution_count": null,
   "id": "762ab82f",
   "metadata": {},
   "outputs": [],
   "source": []
  }
 ],
 "metadata": {
  "kernelspec": {
   "display_name": "Python 3 (ipykernel)",
   "language": "python",
   "name": "python3"
  },
  "language_info": {
   "codemirror_mode": {
    "name": "ipython",
    "version": 3
   },
   "file_extension": ".py",
   "mimetype": "text/x-python",
   "name": "python",
   "nbconvert_exporter": "python",
   "pygments_lexer": "ipython3",
   "version": "3.11.7"
  }
 },
 "nbformat": 4,
 "nbformat_minor": 5
}
