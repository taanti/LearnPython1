{
 "cells": [
  {
   "cell_type": "markdown",
   "id": "dde7d838",
   "metadata": {},
   "source": [
    "# ELSE\n",
    "\n",
    "- The Else statement can be combined with the IF statement, serving as an alternative when the condition of the IF statement evaluates to False.\n",
    "- Else is optional and singular."
   ]
  },
  {
   "cell_type": "code",
   "execution_count": 2,
   "id": "4ce4193f",
   "metadata": {},
   "outputs": [
    {
     "name": "stdout",
     "output_type": "stream",
     "text": [
      "Your Age:17\n",
      "Have a Indentity Card\n"
     ]
    }
   ],
   "source": [
    "age = int(input(\"Your Age:\"))\n",
    "\n",
    "if age >= 17:\n",
    "    print(\"Have a Indentity Card\")\n",
    "else : \n",
    "    print(\"Dont Have a Indentity Card\")"
   ]
  }
 ],
 "metadata": {
  "kernelspec": {
   "display_name": "Python 3 (ipykernel)",
   "language": "python",
   "name": "python3"
  },
  "language_info": {
   "codemirror_mode": {
    "name": "ipython",
    "version": 3
   },
   "file_extension": ".py",
   "mimetype": "text/x-python",
   "name": "python",
   "nbconvert_exporter": "python",
   "pygments_lexer": "ipython3",
   "version": "3.11.7"
  }
 },
 "nbformat": 4,
 "nbformat_minor": 5
}
